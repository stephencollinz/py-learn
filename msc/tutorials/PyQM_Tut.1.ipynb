{
 "cells": [
  {
   "cell_type": "markdown",
   "metadata": {},
   "source": [
    "<center>\n",
    "\n",
    "# Python For Quantum Mechanics\n",
    "# Week 1: Tutorial\n",
    "\n",
    "</center>"
   ]
  },
  {
   "cell_type": "markdown",
   "metadata": {},
   "source": [
    "## Excercise 1: Python as a Calculator\n",
    "Let us introduce the following constants\n",
    "\n",
    "<center>\n",
    "\n",
    "$h \\approx 6.62607015 \\times 10^{-34}$ J/Hz\n",
    "\n",
    "$c = 299792458$ m/s\n",
    "\n",
    "$\\pi \\approx 3.14159265$\n",
    "\n",
    "$\\hbar = \\frac{h}{2\\pi}$\n",
    "\n",
    "$e \\approx 1.60217663 \\times 10^{-19} $ C \n",
    "\n",
    "$m_e \\approx 9.10938370 \\times 10^{-31}$ kg\n",
    "\n",
    "$\\varepsilon_0 \\approx 8.85418781\\times 10^{-12}$ F/m\n",
    "\n",
    "</center>\n",
    "\n",
    "<img src=\"images/calculator.png\" alt=\"two dice\" width=\"200\"/>\n",
    "\n",
    "Save them in python as variables"
   ]
  },
  {
   "cell_type": "code",
   "execution_count": 4,
   "metadata": {
    "cell_id": "00016-a1c9d0f3-4e74-49fc-95a7-d64f44672005",
    "deepnote_cell_type": "code",
    "deepnote_to_be_reexecuted": false,
    "execution_millis": 22,
    "execution_start": 1624957808703,
    "source_hash": "fe255d1d",
    "tags": []
   },
   "outputs": [],
   "source": [
    "h = 6.62607015e-34\n",
    "c = 299792458 \n",
    "pi = 3.14159265\n",
    "hbar = h/2*pi\n",
    "e = 1.60217663e-19\n",
    "me = 9.10938370e-31\n",
    "ep0 =  8.85418781e-12"
   ]
  },
  {
   "cell_type": "markdown",
   "metadata": {},
   "source": [
    "Put them in a data structure. \n",
    "\n",
    "*Think about what might be best...*"
   ]
  },
  {
   "cell_type": "code",
   "execution_count": 6,
   "metadata": {},
   "outputs": [],
   "source": [
    "q_dict = { \"planck\" : h, \"speed of light\" : c, \"pi\" : pi, \"reduced_planck\" : hbar, \"e\" : e, \"me\" : me, \"epsilon0\" : ep0}"
   ]
  },
  {
   "cell_type": "markdown",
   "metadata": {},
   "source": [
    "Check that this in fact works."
   ]
  },
  {
   "cell_type": "code",
   "execution_count": 7,
   "metadata": {},
   "outputs": [
    {
     "name": "stdout",
     "output_type": "stream",
     "text": [
      "{'planck': 6.62607015e-34, 'speed of light': 299792458, 'pi': 3.14159265, 'reduced_planck': 1.0408206640812198e-33, 'e': 1.60217663e-19, 'me': 9.1093837e-31, 'epsilon0': 8.85418781e-12}\n"
     ]
    }
   ],
   "source": [
    "print(q_dict)"
   ]
  },
  {
   "cell_type": "markdown",
   "metadata": {},
   "source": [
    "Use these to calculate the fine structure constant,\n",
    "$$\\alpha = \\frac{1}{4 \\pi \\varepsilon_0} \\frac{e^2}{\\hbar c}$$"
   ]
  },
  {
   "cell_type": "code",
   "execution_count": 9,
   "metadata": {},
   "outputs": [
    {
     "name": "stdout",
     "output_type": "stream",
     "text": [
      "0.0007393763980063831\n"
     ]
    }
   ],
   "source": [
    "alpha = (1/(4*pi*ep0))*((e**2)/(hbar*c))\n",
    "print(alpha)"
   ]
  },
  {
   "cell_type": "markdown",
   "metadata": {},
   "source": [
    "## Exercise 2: Nested Lists and Matrices\n",
    "\n",
    "Take the matrix\n",
    "\n",
    "$$A = \\begin{bmatrix}\n",
    "3.14 & 42 \\\\ 2.71&11\n",
    "\\end{bmatrix}$$\n",
    "\n",
    "Using nested lists as a matrix representation, find and print it's determinant, then find and print it's inverse."
   ]
  },
  {
   "cell_type": "code",
   "execution_count": 14,
   "metadata": {},
   "outputs": [
    {
     "name": "stdout",
     "output_type": "stream",
     "text": [
      "-79.28000000000002\n",
      "[[-0.13874874  0.52976791]\n",
      " [ 0.03418264 -0.03960646]]\n"
     ]
    }
   ],
   "source": [
    "import numpy.linalg as la\n",
    "A=[[3.14,42],[2.71,11]]\n",
    "print(la.det(A))\n",
    "print(la.inv(A))"
   ]
  },
  {
   "cell_type": "markdown",
   "metadata": {},
   "source": [
    "## Exercise 3: What is True and/or False?\n",
    "Discuss and think about the following statements and see if you can predict what will happen.\n",
    "\n",
    "First we will start with casting numbers to Boolean values.\n",
    "- ``` bool(0) ```\n",
    "- ``` bool(1) ```\n",
    "- ``` bool(0.0) ```\n",
    "- ``` bool(1.0) ```\n",
    "- ``` bool(24) ```\n",
    "- ``` bool(-76.2) ```"
   ]
  },
  {
   "cell_type": "code",
   "execution_count": 1,
   "metadata": {},
   "outputs": [
    {
     "data": {
      "text/plain": [
       "True"
      ]
     },
     "execution_count": 1,
     "metadata": {},
     "output_type": "execute_result"
    }
   ],
   "source": [
    "bool(0)\n",
    "bool(1)\n",
    "bool(0.0)\n",
    "bool(1.0)\n",
    "bool(24)\n",
    "bool(-76.2)"
   ]
  },
  {
   "cell_type": "markdown",
   "metadata": {},
   "source": [
    "We can do the same thing with strings.\n",
    "- ``` bool('') ```\n",
    "- ``` bool('hello') ```"
   ]
  },
  {
   "cell_type": "code",
   "execution_count": 2,
   "metadata": {},
   "outputs": [
    {
     "data": {
      "text/plain": [
       "False"
      ]
     },
     "execution_count": 2,
     "metadata": {},
     "output_type": "execute_result"
    }
   ],
   "source": [
    "bool('')\n",
    "bool('hello')"
   ]
  },
  {
   "cell_type": "markdown",
   "metadata": {},
   "source": [
    "We can cast data structures into Boolean.\n",
    "- ``` bool([]) ```\n",
    "- ``` bool({}) ```\n",
    "- ``` bool() ```\n",
    "- ``` bool((1)) ```\n",
    "- ``` bool([5,6,1]) ```\n",
    "- ``` bool({'hello',2.5,9}) ```\n",
    "- ``` bool({}) ```"
   ]
  },
  {
   "cell_type": "code",
   "execution_count": null,
   "metadata": {},
   "outputs": [],
   "source": [
    "bool([])\n",
    "bool({})\n",
    "bool()\n",
    "bool((1))\n",
    "bool([5,6,1])\n",
    "bool({'hello',2.5,9})\n",
    "bool({})"
   ]
  },
  {
   "cell_type": "markdown",
   "metadata": {},
   "source": [
    "Can we cast `None`?\n",
    "- ``` bool(None) ```"
   ]
  },
  {
   "cell_type": "code",
   "execution_count": null,
   "metadata": {},
   "outputs": [],
   "source": [
    "bool(None)"
   ]
  },
  {
   "cell_type": "markdown",
   "metadata": {},
   "source": [
    "When we use `not` it casts the proceeding value into boolean.\n",
    "- ``` not True ```\n",
    "- ``` not False ```\n",
    "- ``` not 1 ```\n",
    "- ``` not 0.0 ```\n",
    "- ``` not 72 ```\n",
    "- ``` not -17.3 ```\n",
    "- ``` not '' ```\n",
    "- ``` not \"hi\" ```\n",
    "- ``` not () ```\n",
    "- ``` not None ```"
   ]
  },
  {
   "cell_type": "code",
   "execution_count": null,
   "metadata": {},
   "outputs": [],
   "source": [
    "not True\n",
    "not False\n",
    "not 1\n",
    "not 0.0\n",
    "not 72\n",
    "not -17.3\n",
    "not ''\n",
    "not \"hi\"\n",
    "not ()\n",
    "not None"
   ]
  },
  {
   "cell_type": "markdown",
   "metadata": {},
   "source": [
    "And we can use two `not`s\n",
    "- ```not not True```\n",
    "- ```not not False```\n",
    "- ```not not {2,4}```"
   ]
  },
  {
   "cell_type": "code",
   "execution_count": null,
   "metadata": {},
   "outputs": [],
   "source": [
    "not not True\n",
    "not not False\n",
    "not not {2,4}"
   ]
  },
  {
   "cell_type": "markdown",
   "metadata": {},
   "source": [
    "We will move on and look at `and`.\n",
    "- ```True and True```\n",
    "- ```True and False```\n",
    "- ```False and True```\n",
    "- ```False and False```"
   ]
  },
  {
   "cell_type": "code",
   "execution_count": null,
   "metadata": {},
   "outputs": [],
   "source": [
    "True and True\n",
    "True and False\n",
    "False and True\n",
    "False and False"
   ]
  },
  {
   "cell_type": "markdown",
   "metadata": {},
   "source": [
    "But what happens when we using things that aren't Boolean?\n",
    "- ```False and 'hello'```\n",
    "- ```'hello' and False```\n",
    "- ```'hello' and True```\n",
    "- ```True and 'hello'```"
   ]
  },
  {
   "cell_type": "code",
   "execution_count": null,
   "metadata": {},
   "outputs": [],
   "source": [
    "False and 'hello'\n",
    "'hello' and False\n",
    "'hello' and True\n",
    "True and 'hello'"
   ]
  },
  {
   "cell_type": "markdown",
   "metadata": {},
   "source": [
    "That's a little strange... Lets see what else we can do!\n",
    "- ```None and {}```\n",
    "- ```'' and True```\n",
    "- ```25 and {25}```\n",
    "- ```{0} and 0```"
   ]
  },
  {
   "cell_type": "code",
   "execution_count": 3,
   "metadata": {},
   "outputs": [
    {
     "data": {
      "text/plain": [
       "0"
      ]
     },
     "execution_count": 3,
     "metadata": {},
     "output_type": "execute_result"
    }
   ],
   "source": [
    "None and {}\n",
    "'' and True\n",
    "25 and {25}\n",
    "{0} and 0"
   ]
  },
  {
   "cell_type": "markdown",
   "metadata": {},
   "source": [
    "Lets try with `or`.\n",
    "- ```None or {}```\n",
    "- ```'' or True```\n",
    "- ```25 or {25}```\n",
    "- ```{0} or 0```"
   ]
  },
  {
   "cell_type": "code",
   "execution_count": 5,
   "metadata": {},
   "outputs": [
    {
     "data": {
      "text/plain": [
       "{0}"
      ]
     },
     "execution_count": 5,
     "metadata": {},
     "output_type": "execute_result"
    }
   ],
   "source": [
    "{0} or 0"
   ]
  },
  {
   "cell_type": "markdown",
   "metadata": {},
   "source": [
    "Finally, we can also play with operator presidence.\n",
    "- ```not (True or False) or 'hello'```\n",
    "- ```'first' and 'second' or False```\n",
    "- ```False or not None and 1+0*2-1```\n",
    "- ```(0) or not 0```\n",
    "- ```(0,) or not 0```"
   ]
  },
  {
   "cell_type": "code",
   "execution_count": 6,
   "metadata": {},
   "outputs": [
    {
     "data": {
      "text/plain": [
       "(0,)"
      ]
     },
     "execution_count": 6,
     "metadata": {},
     "output_type": "execute_result"
    }
   ],
   "source": [
    "(0,) or not 0"
   ]
  },
  {
   "cell_type": "markdown",
   "metadata": {},
   "source": [
    "## Exercise 4: Periodic Function\n",
    "Observe the following function, used in the famous Schor's algorithm.\n",
    "$$ f(x) = a^x mod N$$\n",
    "This function is periodic, with $r$ being the smallest(non-zero) integer such that\n",
    "$$ a^r mod N = 1$$\n",
    "Let $a=2$ and $N=31$. \n",
    "Create a list that contains the values of this function for $x=0,1,...,10.$\n",
    "<img src=\"images/Shor's_algorithm.png\" alt=\"two dice\" width=\"700\"/>"
   ]
  },
  {
   "cell_type": "code",
   "execution_count": 8,
   "metadata": {},
   "outputs": [
    {
     "name": "stdout",
     "output_type": "stream",
     "text": [
      "[2, 4, 8, 16, 1, 2, 4, 8, 16, 1]\n"
     ]
    }
   ],
   "source": [
    "List = [] #Creating an empty list\n",
    "\n",
    "#List.append((2**0)p)\n",
    "List.append((2**1)%31)\n",
    "List.append((2**2)%31)\n",
    "List.append((2**3)%31)\n",
    "List.append((2**4)%31)\n",
    "List.append((2**5)%31)\n",
    "List.append((2**6)%31)\n",
    "List.append((2**7)%31)\n",
    "List.append((2**8)%31)\n",
    "List.append((2**9)%31)\n",
    "List.append((2**10)%31)\n",
    "\n",
    "print(List)"
   ]
  },
  {
   "cell_type": "markdown",
   "metadata": {},
   "source": [
    "Using this list or otherwise, observe and print the value of r."
   ]
  },
  {
   "cell_type": "code",
   "execution_count": 9,
   "metadata": {},
   "outputs": [
    {
     "name": "stdout",
     "output_type": "stream",
     "text": [
      "5\n"
     ]
    }
   ],
   "source": [
    "print(len(set(List)))"
   ]
  },
  {
   "cell_type": "markdown",
   "metadata": {},
   "source": [
    "Now convert this list to a set and print it to observe the values taken by the function in a single period."
   ]
  },
  {
   "cell_type": "code",
   "execution_count": 10,
   "metadata": {},
   "outputs": [
    {
     "name": "stdout",
     "output_type": "stream",
     "text": [
      "{1, 2, 4, 8, 16}\n"
     ]
    }
   ],
   "source": [
    "print(set(List))"
   ]
  }
 ],
 "metadata": {
  "deepnote": {
   "is_reactive": false
  },
  "deepnote_execution_queue": [],
  "deepnote_notebook_id": "eb07da20-6aaf-4886-88b4-49188e0c1ab1",
  "kernelspec": {
   "display_name": "Python 3 (ipykernel)",
   "language": "python",
   "name": "python3"
  },
  "language_info": {
   "codemirror_mode": {
    "name": "ipython",
    "version": 3
   },
   "file_extension": ".py",
   "mimetype": "text/x-python",
   "name": "python",
   "nbconvert_exporter": "python",
   "pygments_lexer": "ipython3",
   "version": "3.9.12"
  }
 },
 "nbformat": 4,
 "nbformat_minor": 2
}
