{
 "cells": [
  {
   "cell_type": "code",
   "execution_count": 14,
   "id": "86a96243",
   "metadata": {},
   "outputs": [],
   "source": [
    "def turing_action(new_state, new_mark, move):\n",
    "    global state, index, tape, status\n",
    "    l = list(tape)\n",
    "    l[index] = new_mark\n",
    "    tape = ''.join(l)\n",
    "    #print(tape)\n",
    "    state = new_state\n",
    "    \n",
    "    if move == 'R':\n",
    "        index += 1\n",
    "    elif move == 'L':\n",
    "        index -= 1\n",
    "    status = not (state == 'q_h' or None == mapping.get(state+','+tape[index]))\n",
    "    \n",
    "mapping = {\n",
    "    'q_s,A' : 'q_1,A,R',\n",
    "    'q_s,+' : 'q_h,+,S',\n",
    "    'q_1,A' : 'q_1,A,R',\n",
    "    'q_1,+' : 'q_2,A,R',\n",
    "    'q_2,A' : 'q_2,A,R',\n",
    "    'q_2,X' : 'q_3,X,L',\n",
    "    'q_3,A' : 'q_h,X,S'\n",
    "}\n",
    "\n",
    "def turing_machine_1():\n",
    "    global state, index, tape, status\n",
    "    n1 = int(input('Enter number #1 (between 0 and 100): '))\n",
    "    n2 = int(input('Enter number #2 (between 0 and 100): '))\n",
    "\n",
    "    l1 = len(range(n1))\n",
    "    l2 = len(range(n2))\n",
    "\n",
    "    tape = l1*'A'+'+'+l2*'A'+200*'X'\n",
    "    index = 0\n",
    "    state = 'q_s'\n",
    "\n",
    "    status = not (state == 'q_h' or None == mapping.get(state+','+tape[index]))\n",
    "    while status:\n",
    "        r = mapping.get(state+','+tape[index]).split(',')\n",
    "        turing_action(r[0],r[1],r[2])\n",
    "    return tape"
   ]
  },
  {
   "cell_type": "code",
   "execution_count": 16,
   "id": "f15dc6c2",
   "metadata": {},
   "outputs": [
    {
     "name": "stdout",
     "output_type": "stream",
     "text": [
      "Enter number #1 (between 0 and 100): 0\n",
      "Enter number #2 (between 0 and 100): 1\n"
     ]
    },
    {
     "data": {
      "text/plain": [
       "'+AXXXXXXXXXXXXXXXXXXXXXXXXXXXXXXXXXXXXXXXXXXXXXXXXXXXXXXXXXXXXXXXXXXXXXXXXXXXXXXXXXXXXXXXXXXXXXXXXXXXXXXXXXXXXXXXXXXXXXXXXXXXXXXXXXXXXXXXXXXXXXXXXXXXXXXXXXXXXXXXXXXXXXXXXXXXXXXXXXXXXXXXXXXXXXXXXXXXXXXXX'"
      ]
     },
     "execution_count": 16,
     "metadata": {},
     "output_type": "execute_result"
    }
   ],
   "source": [
    "turing_machine_1()"
   ]
  }
 ],
 "metadata": {
  "kernelspec": {
   "display_name": "Python 3 (ipykernel)",
   "language": "python",
   "name": "python3"
  },
  "language_info": {
   "codemirror_mode": {
    "name": "ipython",
    "version": 3
   },
   "file_extension": ".py",
   "mimetype": "text/x-python",
   "name": "python",
   "nbconvert_exporter": "python",
   "pygments_lexer": "ipython3",
   "version": "3.9.12"
  }
 },
 "nbformat": 4,
 "nbformat_minor": 5
}
