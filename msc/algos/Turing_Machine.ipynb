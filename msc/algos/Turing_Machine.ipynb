{
 "cells": [
  {
   "cell_type": "code",
   "execution_count": 1,
   "id": "aa9bdf40",
   "metadata": {},
   "outputs": [],
   "source": [
    "def turing_action(new_state, new_mark, move):\n",
    "    global state, index, tape, status\n",
    "    l = list(tape)\n",
    "    l[index] = new_mark\n",
    "    tape = ''.join(l)\n",
    "    #print(tape)\n",
    "    state = new_state\n",
    "    \n",
    "    if move == 'R':\n",
    "        index += 1\n",
    "    elif move == 'L':\n",
    "        index -= 1\n",
    "    status = not (state == 'q_h' or None == mapping.get(state+','+tape[index]))\n",
    "        \n",
    "    "
   ]
  },
  {
   "cell_type": "code",
   "execution_count": 3,
   "id": "0ba1a73d",
   "metadata": {},
   "outputs": [],
   "source": [
    "mapping = {\n",
    "    'q_s,A' : 'q_1,A,R',\n",
    "    'q_s,+' : 'q_2,A,R',\n",
    "    'q_1,A' : 'q_1,A,R',\n",
    "    'q_1,+' : 'q_2,A,R',\n",
    "    'q_2,A' : 'q_2,A,R',\n",
    "    'q_2,X' : 'q_3,X,L',\n",
    "    'q_3,A' : 'q_h,+,S'\n",
    "}\n",
    "\n"
   ]
  },
  {
   "cell_type": "code",
   "execution_count": 14,
   "id": "684d2f0b",
   "metadata": {},
   "outputs": [
    {
     "name": "stdout",
     "output_type": "stream",
     "text": [
      "Enter number #1 (between 0 and 100): 10\n",
      "Enter number #2 (between 0 and 100): 100\n",
      "AAAAAAAAAA+AAAAAAAAAAAAAAAAAAAAAAAAAAAAAAAAAAAAAAAAAAAAAAAAAAAAAAAAAAAAAAAAAAAAAAAAAAAAAAAAAAAAAAAAAAAAAAAAAAAAXXXXXXXXXXXXXXXXXXXXXXXXXXXXXXXXXXXXXXXXXXXXXXXXXXXXXXXXXXXXXXXXXXXXXXXXXXXXXXXXXXXXXXXXXXXXXXXXXXXXXXXXXXXXXXXXXXXXXXXXXXXXXXXXXXXXXXXXXXXXXXXXXXXXXXXXXXXXXXXXXXXXXXXXXXXXXXXXXXXXXXXXXXXXXXXXXXXXXXXX\n",
      "number of executions was 113\n"
     ]
    },
    {
     "data": {
      "text/plain": [
       "'AAAAAAAAAAAAAAAAAAAAAAAAAAAAAAAAAAAAAAAAAAAAAAAAAAAAAAAAAAAAAAAAAAAAAAAAAAAAAAAAAAAAAAAAAAAAAAAAAAAAAAAAAAAAAA+XXXXXXXXXXXXXXXXXXXXXXXXXXXXXXXXXXXXXXXXXXXXXXXXXXXXXXXXXXXXXXXXXXXXXXXXXXXXXXXXXXXXXXXXXXXXXXXXXXXXXXXXXXXXXXXXXXXXXXXXXXXXXXXXXXXXXXXXXXXXXXXXXXXXXXXXXXXXXXXXXXXXXXXXXXXXXXXXXXXXXXXXXXXXXXXXXXXXXXXX'"
      ]
     },
     "execution_count": 14,
     "metadata": {},
     "output_type": "execute_result"
    }
   ],
   "source": [
    "n1 = int(input('Enter number #1 (between 0 and 100): '))\n",
    "n2 = int(input('Enter number #2 (between 0 and 100): '))\n",
    "\n",
    "\n",
    "l1 = len(range(n1))\n",
    "l2 = len(range(n2))\n",
    "\n",
    "tape = l1*'A'+'+'+l2*'A'+200*'X'\n",
    "index = 0\n",
    "state = 'q_s'\n",
    "\n",
    "#print(mapping.get(state+','+tape[index]))\n",
    "\n",
    "#turing_action('B','R','q_s')\n",
    "print(tape)\n",
    "\n",
    "\n",
    "status = not (state == 'q_h' or None == mapping.get(state+','+tape[index]))\n",
    "i = 0\n",
    "while status:\n",
    "    i+=1\n",
    "    r = mapping.get(state+','+tape[index]).split(',')\n",
    "    turing_action(r[0],r[1],r[2])\n",
    "print('number of executions was '+ str(i))\n",
    "tape"
   ]
  }
 ],
 "metadata": {
  "kernelspec": {
   "display_name": "Python 3 (ipykernel)",
   "language": "python",
   "name": "python3"
  },
  "language_info": {
   "codemirror_mode": {
    "name": "ipython",
    "version": 3
   },
   "file_extension": ".py",
   "mimetype": "text/x-python",
   "name": "python",
   "nbconvert_exporter": "python",
   "pygments_lexer": "ipython3",
   "version": "3.9.13"
  }
 },
 "nbformat": 4,
 "nbformat_minor": 5
}
