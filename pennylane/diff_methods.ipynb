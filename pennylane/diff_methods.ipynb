{
 "cells": [
  {
   "cell_type": "code",
   "execution_count": 23,
   "id": "d6f3469c",
   "metadata": {},
   "outputs": [],
   "source": [
    "import pennylane as qml\n",
    "from pennylane import numpy as np\n",
    "np.set_printoptions(precision=14)"
   ]
  },
  {
   "cell_type": "code",
   "execution_count": 14,
   "id": "cc404d48",
   "metadata": {},
   "outputs": [],
   "source": [
    "dev = qml.device(\"default.qubit\", wires = 2)\n",
    "\n",
    "@qml.qnode(dev)\n",
    "\n",
    "def circuit(params):\n",
    "    qml.RY(params[0], wires=0)\n",
    "    qml.RX(params[1], wires=1)\n",
    "    return qml.expval(qml.PauliZ(0) + qml.PauliZ(1))"
   ]
  },
  {
   "cell_type": "code",
   "execution_count": 15,
   "id": "15e0ce16",
   "metadata": {},
   "outputs": [
    {
     "name": "stdout",
     "output_type": "stream",
     "text": [
      "1.414213562373095\n"
     ]
    }
   ],
   "source": [
    "params = np.array([np.pi/4, np.pi/4])\n",
    "print(circuit(params))"
   ]
  },
  {
   "cell_type": "code",
   "execution_count": 53,
   "id": "39e42b95",
   "metadata": {},
   "outputs": [],
   "source": [
    "def my_finite_diff_grad(params, h=1.0e-7):\n",
    "    gradient = np.zeros_like(params)\n",
    "\n",
    "    \n",
    "    for i in range(len(params)):\n",
    "        params[i] += h\n",
    "        gradient[i] += circuit(params)\n",
    "        \n",
    "        params[i] -= 2*h\n",
    "        gradient[i] -= circuit(params)\n",
    "        \n",
    "        gradient[i] /= 2*h\n",
    "        params[i] += h\n",
    "        \n",
    "    return gradient"
   ]
  },
  {
   "cell_type": "code",
   "execution_count": 31,
   "id": "67b171f6",
   "metadata": {},
   "outputs": [],
   "source": [
    "@qml.qnode(dev, diff_method=\"finite-diff\")\n",
    "def circuit_finite_diff(params):\n",
    "    qml.RY(params[0], wires=0)\n",
    "    qml.RX(params[1], wires=1)\n",
    "    return qml.expval(qml.PauliZ(0) + qml.PauliZ(1))"
   ]
  },
  {
   "cell_type": "code",
   "execution_count": 54,
   "id": "1cdd0de7",
   "metadata": {},
   "outputs": [
    {
     "name": "stdout",
     "output_type": "stream",
     "text": [
      "[-0.70710677979591 -0.86602540250169]\n",
      "[-0.7071068131026  -0.86602543136749]\n"
     ]
    }
   ],
   "source": [
    "params = np.array([np.pi/4, np.pi/3], requires_grad = True)\n",
    "\n",
    "print(my_finite_diff_grad(params))\n",
    "print(qml.grad(circuit_finite_diff)(params))"
   ]
  },
  {
   "cell_type": "code",
   "execution_count": 56,
   "id": "31892c33",
   "metadata": {},
   "outputs": [],
   "source": [
    "def my_param_shift_grad(params, s=np.pi/3):\n",
    "    \n",
    "    gradient = np.zeros_like(params)\n",
    "    \n",
    "    for i in range(len(params)):\n",
    "        params[i] += s\n",
    "        gradient[i] += circuit(params)\n",
    "        \n",
    "        params[i] -= 2*s\n",
    "        gradient[i] -= circuit(params)\n",
    "        \n",
    "        gradient[i] /= 2*np.sin(s)\n",
    "        \n",
    "        params[i] += s\n",
    "        \n",
    "    return gradient\n",
    "    \n",
    "@qml.qnode(dev, diff_method=\"parameter-shift\")\n",
    "def circuit_param_shift(params):\n",
    "    qml.RY(params[0], wires=0)\n",
    "    qml.RX(params[1], wires=1)\n",
    "    return qml.expval(qml.PauliZ(0) + qml.PauliZ(1))  "
   ]
  },
  {
   "cell_type": "code",
   "execution_count": 57,
   "id": "a8e97961",
   "metadata": {},
   "outputs": [
    {
     "name": "stdout",
     "output_type": "stream",
     "text": [
      "[-0.70710678118655 -0.86602540378444]\n",
      "[-0.70710678118655 -0.86602540378444]\n"
     ]
    }
   ],
   "source": [
    "print(my_param_shift_grad(params))\n",
    "print(qml.grad(circuit_param_shift)(params))"
   ]
  }
 ],
 "metadata": {
  "kernelspec": {
   "display_name": "Python 3 (ipykernel)",
   "language": "python",
   "name": "python3"
  },
  "language_info": {
   "codemirror_mode": {
    "name": "ipython",
    "version": 3
   },
   "file_extension": ".py",
   "mimetype": "text/x-python",
   "name": "python",
   "nbconvert_exporter": "python",
   "pygments_lexer": "ipython3",
   "version": "3.9.12"
  }
 },
 "nbformat": 4,
 "nbformat_minor": 5
}
