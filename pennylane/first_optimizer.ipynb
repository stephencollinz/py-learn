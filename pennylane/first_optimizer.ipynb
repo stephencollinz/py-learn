{
 "cells": [
  {
   "cell_type": "code",
   "execution_count": 1,
   "id": "ce5ee702",
   "metadata": {},
   "outputs": [],
   "source": [
    "import pennylane as qml\n",
    "from pennylane import numpy as np\n",
    "import matplotlib.pyplot as plt"
   ]
  },
  {
   "cell_type": "code",
   "execution_count": 2,
   "id": "cc2ade52",
   "metadata": {},
   "outputs": [
    {
     "name": "stderr",
     "output_type": "stream",
     "text": [
      "C:\\Users\\stephen\\anaconda3\\lib\\site-packages\\pennylane_lightning\\lightning_qubit.py:893: UserWarning: Pre-compiled binaries for lightning.qubit are not available. Falling back to using the Python-based default.qubit implementation. To manually compile from source, follow the instructions at https://pennylane-lightning.readthedocs.io/en/latest/installation.html.\n",
      "  warn(\n"
     ]
    },
    {
     "data": {
      "text/plain": [
       "tensor(-0.99500417, requires_grad=True)"
      ]
     },
     "execution_count": 2,
     "metadata": {},
     "output_type": "execute_result"
    }
   ],
   "source": [
    "dev = qml.device('lightning.qubit',wires=1)\n",
    "\n",
    "@qml.qnode(dev)\n",
    "def circuit(theta):\n",
    "    qml.PauliX(wires=0)\n",
    "    qml.RY(theta,wires=0)\n",
    "    return qml.expval(qml.PauliZ(0))\n",
    "\n",
    "circuit(0.1)"
   ]
  },
  {
   "cell_type": "code",
   "execution_count": 4,
   "id": "001b4997",
   "metadata": {},
   "outputs": [],
   "source": [
    "thetas = np.linspace(-np.pi,np.pi,50)\n",
    "measurements = []\n",
    "for theta in thetas:\n",
    "    measurements.append(circuit(theta))"
   ]
  },
  {
   "cell_type": "code",
   "execution_count": 7,
   "id": "fe1e1812",
   "metadata": {},
   "outputs": [
    {
     "data": {
      "image/png": "[encoded data removed]",
      "text/plain": [
       "<Figure size 432x288 with 1 Axes>"
      ]
     },
     "metadata": {
      "needs_background": "light"
     },
     "output_type": "display_data"
    }
   ],
   "source": [
    "fix,ax = plt.subplots()\n",
    "ax.plot(thetas,measurements)\n",
    "plt.show()"
   ]
  },
  {
   "cell_type": "code",
   "execution_count": 8,
   "id": "1d9a1bcd",
   "metadata": {},
   "outputs": [],
   "source": [
    "theta = np.array([-2],requires_grad=True)"
   ]
  },
  {
   "cell_type": "code",
   "execution_count": 11,
   "id": "e65153a7",
   "metadata": {},
   "outputs": [],
   "source": [
    "opt = qml.GradientDescentOptimizer(stepsize=0.1)"
   ]
  },
  {
   "cell_type": "code",
   "execution_count": 12,
   "id": "3a7dfa9f",
   "metadata": {},
   "outputs": [
    {
     "name": "stdout",
     "output_type": "stream",
     "text": [
      "Theta:  [-1.90907026] Cost:  0.33185933611436363\n",
      "Theta:  [-0.95268251] Cost:  -0.5794990037893342\n",
      "Theta:  [-0.35999832] Cost:  -0.9358974149503752\n",
      "Theta:  [-0.12693105] Cost:  -0.9919550642770163\n",
      "Theta:  [-0.04431925] Cost:  -0.9990180628025327\n",
      "Theta:  [-0.01545577] Cost:  -0.9998805620275653\n",
      "Theta:  [-0.0053892] Cost:  -0.9999854782829674\n",
      "Theta:  [-0.0018791] Cost:  -0.9999982344856905\n",
      "Theta:  [-0.0006552] Cost:  -0.9999997853544914\n",
      "Theta:  [-0.00022846] Cost:  -0.9999999739041142\n"
     ]
    }
   ],
   "source": [
    "n_it = 100\n",
    "for it in range(n_it):\n",
    "    theta,prev_cost = opt.step_and_cost(circuit,theta)\n",
    "    if it%10==0:\n",
    "        print('Theta: ',theta,'Cost: ',circuit(theta))"
   ]
  }
 ],
 "metadata": {
  "kernelspec": {
   "display_name": "Python 3 (ipykernel)",
   "language": "python",
   "name": "python3"
  },
  "language_info": {
   "codemirror_mode": {
    "name": "ipython",
    "version": 3
   },
   "file_extension": ".py",
   "mimetype": "text/x-python",
   "name": "python",
   "nbconvert_exporter": "python",
   "pygments_lexer": "ipython3",
   "version": "3.9.12"
  }
 },
 "nbformat": 4,
 "nbformat_minor": 5
}
